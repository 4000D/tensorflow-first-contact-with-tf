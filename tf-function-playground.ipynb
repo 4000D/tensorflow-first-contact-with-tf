{
 "cells": [
  {
   "cell_type": "code",
   "execution_count": 3,
   "metadata": {
    "collapsed": true
   },
   "outputs": [],
   "source": [
    "import tensorflow as tf\n",
    "import numpy as np"
   ]
  },
  {
   "cell_type": "markdown",
   "metadata": {},
   "source": [
    "### [tf.slice](https://www.tensorflow.org/versions/r0.11/api_docs/python/array_ops.html#slice)\n"
   ]
  },
  {
   "cell_type": "code",
   "execution_count": 22,
   "metadata": {
    "collapsed": false
   },
   "outputs": [
    {
     "name": "stdout",
     "output_type": "stream",
     "text": [
      "[[1 2]\n",
      " [4 5]]\n"
     ]
    }
   ],
   "source": [
    "x = tf.constant([ \n",
    "        [1, 2, 3],\n",
    "        [4, 5, 6]\n",
    "    ])\n",
    "y = tf.slice(x, [0,0], [-1,2]) # arr, [r1, c1], [r2, rc] : arr의 row를 [r1, r2)까지, column을 [c1, c2)까지 잘라라 \n",
    "\n",
    "#initialize\n",
    "init = tf.initialize_all_variables()\n",
    "sess = tf.Session()\n",
    "sess.run(init)\n",
    "\n",
    "#run\n",
    "print(sess.run(y))\n"
   ]
  },
  {
   "cell_type": "markdown",
   "metadata": {},
   "source": [
    "### [tf.reduce_sum](https://www.tensorflow.org/versions/r0.11/api_docs/python/math_ops.html#reduce_sum)\n",
    "tf.reduce_sum(input_tensor, reduction_indices=None, keep_dims=False, name=None)"
   ]
  },
  {
   "cell_type": "code",
   "execution_count": 22,
   "metadata": {
    "collapsed": false
   },
   "outputs": [
    {
     "name": "stdout",
     "output_type": "stream",
     "text": [
      "[[1 2]\n",
      " [4 5]]\n"
     ]
    }
   ],
   "source": [
    "x = tf.constant([ \n",
    "        [1, 1, 1],\n",
    "        [1, 1, 1]\n",
    "    ])\n",
    "    \n",
    "a = tf.reduce_sum(x)                        # ==> 6\n",
    "b = tf.reduce_sum(x, 0)                     # ==> [2, 2, 2]\n",
    "c = tf.reduce_sum(x, 1)                     # ==> [3, 3]\n",
    "d = tf.reduce_sum(x, 1, keep_dims=True)     # ==> [[3], [3]]\n",
    "e = tf.reduce_sum(x, [0, 1])                # ==> 6\n",
    "\n",
    "#initialize\n",
    "init = tf.initialize_all_variables()\n",
    "sess = tf.Session()\n",
    "sess.run(init)\n",
    "\n",
    "#run\n",
    "print(sess.run(a),sess.run(a),sess.run(c),sess.run(d),sess.run(e))\n"
   ]
  }
 ],
 "metadata": {
  "anaconda-cloud": {},
  "kernelspec": {
   "display_name": "Python [conda env:tensorflow]",
   "language": "python",
   "name": "conda-env-tensorflow-py"
  },
  "language_info": {
   "codemirror_mode": {
    "name": "ipython",
    "version": 3
   },
   "file_extension": ".py",
   "mimetype": "text/x-python",
   "name": "python",
   "nbconvert_exporter": "python",
   "pygments_lexer": "ipython3",
   "version": "3.5.2"
  }
 },
 "nbformat": 4,
 "nbformat_minor": 1
}
